{
 "cells": [
  {
   "cell_type": "markdown",
   "metadata": {},
   "source": [
    "# India - Language Diversity"
   ]
  },
  {
   "cell_type": "markdown",
   "metadata": {},
   "source": [
    "## Background"
   ]
  },
  {
   "cell_type": "markdown",
   "metadata": {},
   "source": [
    "<p style=\"font-size:16px\">With a population of over 1.3 billion, it is a well known fact that India is a diverse country. It is often said that India is a nation with a vibrant history and boasts of a rich culture or rather India's culture is actually an amalgamation of different cultures co-exisiting in harmony. From the Himalayas of the North to the Deccan Plateau in the South, the country comprises of people from all walks of life with unique cultures, values and of course, different languages.</p>"
   ]
  },
  {
   "cell_type": "markdown",
   "metadata": {},
   "source": [
    "<p style=\"font-size:16px\">The Constitution of India specifies 22 official languages in the Eighth Schedule although an estimate according to the Census of 2011 resulted in there being about 121 languges, not counting the many various dialects.</p>"
   ]
  },
  {
   "cell_type": "markdown",
   "metadata": {},
   "source": [
    "<img src=\"map.jpg\">"
   ]
  },
  {
   "cell_type": "markdown",
   "metadata": {},
   "source": [
    "## Introduction"
   ]
  },
  {
   "cell_type": "markdown",
   "metadata": {},
   "source": [
    "<p style=\"font-size:16px\"> Languages of India is a very fascinating topic to study. It is indeed very intersting to explore how the Indian languages are spoken throughout the country. Many states in India often have a main local language for example: The state of Gujrat has Gujrati as its most popular language. Although a lot of states in Northern India have many Hindi speaking natives. One can even say that Hindi is to Northern India what English is to the world.  </p>"
   ]
  },
  {
   "cell_type": "markdown",
   "metadata": {},
   "source": [
    "<p style=\"font-size:16px\">For this project I have decided to study how the languages of India are distributed and which states are similar linguistically speaking. </p>"
   ]
  },
  {
   "cell_type": "markdown",
   "metadata": {},
   "source": [
    "## Project Topic"
   ]
  },
  {
   "cell_type": "markdown",
   "metadata": {},
   "source": [
    "<p style=\"font-size:16px\"> Each state has a population that speaks a dozen different languages. My idea is to collect the language data for each state and perform clustering on it to analyse which states are linguistically similar. Of course tools such as the Foursquare API, folium maps, and other libraries will be used for visualizing and analysing data but the main essence of the project will lie in clustering the data. </p>"
   ]
  },
  {
   "cell_type": "markdown",
   "metadata": {},
   "source": [
    "<img src=\"kmeans.png\">"
   ]
  },
  {
   "cell_type": "markdown",
   "metadata": {},
   "source": [
    "<p style=\"font-size:16px\">The idea behind the project is to extract data of about 5 or 6 spoken languages in each state and then use K-Means for clustering to assign each state to a cluster based on languages spoken in each state. This proejct, of course can not be limited to the country of India and can be used for studying any country's or even the world's language distrubution to discover any similarity hidden or otherwise that can be visualized on a map. </p>"
   ]
  }
 ],
 "metadata": {
  "kernelspec": {
   "display_name": "Python 3",
   "language": "python",
   "name": "python3"
  },
  "language_info": {
   "codemirror_mode": {
    "name": "ipython",
    "version": 3
   },
   "file_extension": ".py",
   "mimetype": "text/x-python",
   "name": "python",
   "nbconvert_exporter": "python",
   "pygments_lexer": "ipython3",
   "version": "3.7.7"
  }
 },
 "nbformat": 4,
 "nbformat_minor": 4
}
