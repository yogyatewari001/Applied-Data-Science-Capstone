{
 "cells": [
  {
   "cell_type": "markdown",
   "metadata": {},
   "source": [
    "# India - Language Diversity Data"
   ]
  },
  {
   "cell_type": "markdown",
   "metadata": {},
   "source": [
    "<p style=\"font-size:18px\">This notebook will describe the data I have used for my project.</p>"
   ]
  },
  {
   "cell_type": "markdown",
   "metadata": {},
   "source": [
    "## Dataset"
   ]
  },
  {
   "cell_type": "markdown",
   "metadata": {},
   "source": [
    "<p style=\"font-size:16px\">As specified in the problem description I intend to perform clustering based on the languages spoken in each state of India and analyze its results. For this I require reliable data which depicts the languages spoken in India for every state and Union Territory in detail.</p>"
   ]
  },
  {
   "cell_type": "markdown",
   "metadata": {},
   "source": [
    "<p style=\"font-size:16px\">After some research I was able to find what I needed on Wikipedia. Here's a link to the wikipedia page: <a>https://en.wikipedia.org/wiki/Indian_States_by_most_popular_languages</a></p>"
   ]
  },
  {
   "cell_type": "markdown",
   "metadata": {},
   "source": [
    "<p style=\"font-size:16px\">Let us proceed to import the table and have a quick look at the dataset to see what we're dealing with.</p>"
   ]
  },
  {
   "cell_type": "code",
   "execution_count": 2,
   "metadata": {},
   "outputs": [
    {
     "data": {
      "text/html": [
       "<div>\n",
       "<style scoped>\n",
       "    .dataframe tbody tr th:only-of-type {\n",
       "        vertical-align: middle;\n",
       "    }\n",
       "\n",
       "    .dataframe tbody tr th {\n",
       "        vertical-align: top;\n",
       "    }\n",
       "\n",
       "    .dataframe thead th {\n",
       "        text-align: right;\n",
       "    }\n",
       "</style>\n",
       "<table border=\"1\" class=\"dataframe\">\n",
       "  <thead>\n",
       "    <tr style=\"text-align: right;\">\n",
       "      <th></th>\n",
       "      <th>State / Union Territory</th>\n",
       "      <th>Language 1</th>\n",
       "      <th>Language 2</th>\n",
       "      <th>Language 3</th>\n",
       "      <th>Language 4</th>\n",
       "      <th>Language 5</th>\n",
       "    </tr>\n",
       "  </thead>\n",
       "  <tbody>\n",
       "    <tr>\n",
       "      <th>0</th>\n",
       "      <td>Andaman &amp; Nicobar Islands</td>\n",
       "      <td>Bengali</td>\n",
       "      <td>Hindi</td>\n",
       "      <td>Tamil</td>\n",
       "      <td>Telugu</td>\n",
       "      <td>Malayalam</td>\n",
       "    </tr>\n",
       "    <tr>\n",
       "      <th>1</th>\n",
       "      <td>Andhra Pradesh</td>\n",
       "      <td>Telugu</td>\n",
       "      <td>Urdu</td>\n",
       "      <td>Hindi</td>\n",
       "      <td>Tamil</td>\n",
       "      <td>Marathi</td>\n",
       "    </tr>\n",
       "    <tr>\n",
       "      <th>2</th>\n",
       "      <td>Arunachal Pradesh</td>\n",
       "      <td>Nishi</td>\n",
       "      <td>Adi</td>\n",
       "      <td>Bengali</td>\n",
       "      <td>Nepali</td>\n",
       "      <td>Hindi</td>\n",
       "    </tr>\n",
       "    <tr>\n",
       "      <th>3</th>\n",
       "      <td>Assam</td>\n",
       "      <td>Assamese</td>\n",
       "      <td>Hindi</td>\n",
       "      <td>Bodo</td>\n",
       "      <td>Nepali</td>\n",
       "      <td>NaN</td>\n",
       "    </tr>\n",
       "    <tr>\n",
       "      <th>4</th>\n",
       "      <td>Bihar</td>\n",
       "      <td>Hindi (Bhojpuri and Magahi)</td>\n",
       "      <td>Maithili</td>\n",
       "      <td>Urdu</td>\n",
       "      <td>Bengali</td>\n",
       "      <td>Santali</td>\n",
       "    </tr>\n",
       "    <tr>\n",
       "      <th>5</th>\n",
       "      <td>Chandigarh</td>\n",
       "      <td>Hindi</td>\n",
       "      <td>Punjabi</td>\n",
       "      <td>Urdu</td>\n",
       "      <td>Nepali</td>\n",
       "      <td>Bengali</td>\n",
       "    </tr>\n",
       "    <tr>\n",
       "      <th>6</th>\n",
       "      <td>Chhattisgarh</td>\n",
       "      <td>Hindi (Chhattisgarhi)</td>\n",
       "      <td>Odia</td>\n",
       "      <td>Bengali</td>\n",
       "      <td>Telugu</td>\n",
       "      <td>Marathi</td>\n",
       "    </tr>\n",
       "    <tr>\n",
       "      <th>7</th>\n",
       "      <td>Dadra &amp; Nagar Haveli</td>\n",
       "      <td>Hindi</td>\n",
       "      <td>Gujarati</td>\n",
       "      <td>Marathi</td>\n",
       "      <td>Konkani</td>\n",
       "      <td>Odia</td>\n",
       "    </tr>\n",
       "    <tr>\n",
       "      <th>8</th>\n",
       "      <td>Daman &amp; Diu</td>\n",
       "      <td>Gujarati</td>\n",
       "      <td>Hindi</td>\n",
       "      <td>Marathi</td>\n",
       "      <td>Bengali</td>\n",
       "      <td>Odia</td>\n",
       "    </tr>\n",
       "    <tr>\n",
       "      <th>9</th>\n",
       "      <td>Delhi</td>\n",
       "      <td>Hindi</td>\n",
       "      <td>Punjabi</td>\n",
       "      <td>Urdu</td>\n",
       "      <td>Bengali</td>\n",
       "      <td>Maithili</td>\n",
       "    </tr>\n",
       "  </tbody>\n",
       "</table>\n",
       "</div>"
      ],
      "text/plain": [
       "     State / Union Territory                   Language 1 Language 2  \\\n",
       "0  Andaman & Nicobar Islands                      Bengali      Hindi   \n",
       "1             Andhra Pradesh                       Telugu       Urdu   \n",
       "2          Arunachal Pradesh                        Nishi        Adi   \n",
       "3                      Assam                     Assamese      Hindi   \n",
       "4                      Bihar  Hindi (Bhojpuri and Magahi)   Maithili   \n",
       "5                 Chandigarh                        Hindi    Punjabi   \n",
       "6               Chhattisgarh        Hindi (Chhattisgarhi)       Odia   \n",
       "7       Dadra & Nagar Haveli                        Hindi   Gujarati   \n",
       "8                Daman & Diu                     Gujarati      Hindi   \n",
       "9                      Delhi                        Hindi    Punjabi   \n",
       "\n",
       "  Language 3 Language 4 Language 5  \n",
       "0      Tamil     Telugu  Malayalam  \n",
       "1      Hindi      Tamil    Marathi  \n",
       "2    Bengali     Nepali      Hindi  \n",
       "3       Bodo     Nepali        NaN  \n",
       "4       Urdu    Bengali    Santali  \n",
       "5       Urdu     Nepali    Bengali  \n",
       "6    Bengali     Telugu    Marathi  \n",
       "7    Marathi    Konkani       Odia  \n",
       "8    Marathi    Bengali       Odia  \n",
       "9       Urdu    Bengali   Maithili  "
      ]
     },
     "execution_count": 2,
     "metadata": {},
     "output_type": "execute_result"
    }
   ],
   "source": [
    "import pandas as pd\n",
    "df = pd.read_html('https://en.wikipedia.org/wiki/Indian_States_by_most_popular_languages')[0]\n",
    "df.head(10)"
   ]
  },
  {
   "cell_type": "markdown",
   "metadata": {},
   "source": [
    "<p style=\"font-size:16px\">The table has 6 columns with the first column containing the name of the state or the union territory and the next 5 columns basically tell us which languages are spoken in that particular state. However, in the 'Language 1' column we do notice dialects of Hindi specified as well and that is some information that would not be relevant to the project here. Therefore we will have to perform some data cleaning for that particular column and replace it with only Hindi </p>"
   ]
  },
  {
   "cell_type": "markdown",
   "metadata": {},
   "source": [
    "<p style=\"font-size:16px\"> We also notice some null values for the column 'Language 5'. Since our data consists of categorical data we cannot replace the NaN values with the mean of the values in that particular column. Therefore, it is safe to replace the absent data with 'English' and it is after all a common language most people of India know and speak, perhaps after Hindi.</p>"
   ]
  },
  {
   "cell_type": "code",
   "execution_count": 11,
   "metadata": {},
   "outputs": [
    {
     "name": "stdout",
     "output_type": "stream",
     "text": [
      "['Bengali', 'Telugu', 'Nishi', 'Assamese', 'Hindi', 'Hindi', 'Hindi', 'Hindi', 'Gujarati', 'Hindi', 'Konkani', 'Gujarati', 'Hindi', 'Hindi', 'Kashmiri', 'Hindi', 'Kannada', 'Malayalam', 'Malayalam', 'Hindi', 'Marathi', 'Manipuri', 'Khasi', 'Mizo', 'Naga', 'Odia', 'Tamil', 'Punjabi', 'Hindi', 'Nepali', 'Tamil', 'Telugu', 'Bengali', 'Hindi', 'Hindi', 'Bengali']\n"
     ]
    }
   ],
   "source": [
    "import string\n",
    "first_lang=[]\n",
    "for word in df['Language 1']:\n",
    "    word_list=[i.strip(string.punctuation) for i in word.split()]\n",
    "    first_lang.append(word_list[0])\n",
    "print(first_lang)  "
   ]
  },
  {
   "cell_type": "code",
   "execution_count": 5,
   "metadata": {},
   "outputs": [
    {
     "data": {
      "text/html": [
       "<div>\n",
       "<style scoped>\n",
       "    .dataframe tbody tr th:only-of-type {\n",
       "        vertical-align: middle;\n",
       "    }\n",
       "\n",
       "    .dataframe tbody tr th {\n",
       "        vertical-align: top;\n",
       "    }\n",
       "\n",
       "    .dataframe thead th {\n",
       "        text-align: right;\n",
       "    }\n",
       "</style>\n",
       "<table border=\"1\" class=\"dataframe\">\n",
       "  <thead>\n",
       "    <tr style=\"text-align: right;\">\n",
       "      <th></th>\n",
       "      <th>State_UT</th>\n",
       "      <th>Language 1</th>\n",
       "      <th>Language 2</th>\n",
       "      <th>Language 3</th>\n",
       "      <th>Language 4</th>\n",
       "      <th>Language 5</th>\n",
       "    </tr>\n",
       "  </thead>\n",
       "  <tbody>\n",
       "    <tr>\n",
       "      <th>0</th>\n",
       "      <td>Andaman &amp; Nicobar Islands</td>\n",
       "      <td>Bengali</td>\n",
       "      <td>Hindi</td>\n",
       "      <td>Tamil</td>\n",
       "      <td>Telugu</td>\n",
       "      <td>Malayalam</td>\n",
       "    </tr>\n",
       "    <tr>\n",
       "      <th>1</th>\n",
       "      <td>Andhra Pradesh</td>\n",
       "      <td>Telugu</td>\n",
       "      <td>Urdu</td>\n",
       "      <td>Hindi</td>\n",
       "      <td>Tamil</td>\n",
       "      <td>Marathi</td>\n",
       "    </tr>\n",
       "    <tr>\n",
       "      <th>2</th>\n",
       "      <td>Arunachal Pradesh</td>\n",
       "      <td>Nishi</td>\n",
       "      <td>Adi</td>\n",
       "      <td>Bengali</td>\n",
       "      <td>Nepali</td>\n",
       "      <td>Hindi</td>\n",
       "    </tr>\n",
       "    <tr>\n",
       "      <th>3</th>\n",
       "      <td>Assam</td>\n",
       "      <td>Assamese</td>\n",
       "      <td>Hindi</td>\n",
       "      <td>Bodo</td>\n",
       "      <td>Nepali</td>\n",
       "      <td>English</td>\n",
       "    </tr>\n",
       "    <tr>\n",
       "      <th>4</th>\n",
       "      <td>Bihar</td>\n",
       "      <td>Hindi</td>\n",
       "      <td>Maithili</td>\n",
       "      <td>Urdu</td>\n",
       "      <td>Bengali</td>\n",
       "      <td>Santali</td>\n",
       "    </tr>\n",
       "    <tr>\n",
       "      <th>5</th>\n",
       "      <td>Chandigarh</td>\n",
       "      <td>Hindi</td>\n",
       "      <td>Punjabi</td>\n",
       "      <td>Urdu</td>\n",
       "      <td>Nepali</td>\n",
       "      <td>Bengali</td>\n",
       "    </tr>\n",
       "    <tr>\n",
       "      <th>6</th>\n",
       "      <td>Chhattisgarh</td>\n",
       "      <td>Hindi</td>\n",
       "      <td>Odia</td>\n",
       "      <td>Bengali</td>\n",
       "      <td>Telugu</td>\n",
       "      <td>Marathi</td>\n",
       "    </tr>\n",
       "    <tr>\n",
       "      <th>7</th>\n",
       "      <td>Dadra &amp; Nagar Haveli</td>\n",
       "      <td>Hindi</td>\n",
       "      <td>Gujarati</td>\n",
       "      <td>Marathi</td>\n",
       "      <td>Konkani</td>\n",
       "      <td>Odia</td>\n",
       "    </tr>\n",
       "    <tr>\n",
       "      <th>8</th>\n",
       "      <td>Daman &amp; Diu</td>\n",
       "      <td>Gujarati</td>\n",
       "      <td>Hindi</td>\n",
       "      <td>Marathi</td>\n",
       "      <td>Bengali</td>\n",
       "      <td>Odia</td>\n",
       "    </tr>\n",
       "    <tr>\n",
       "      <th>9</th>\n",
       "      <td>Delhi</td>\n",
       "      <td>Hindi</td>\n",
       "      <td>Punjabi</td>\n",
       "      <td>Urdu</td>\n",
       "      <td>Bengali</td>\n",
       "      <td>Maithili</td>\n",
       "    </tr>\n",
       "  </tbody>\n",
       "</table>\n",
       "</div>"
      ],
      "text/plain": [
       "                    State_UT Language 1 Language 2 Language 3 Language 4  \\\n",
       "0  Andaman & Nicobar Islands    Bengali      Hindi      Tamil     Telugu   \n",
       "1             Andhra Pradesh     Telugu       Urdu      Hindi      Tamil   \n",
       "2          Arunachal Pradesh      Nishi        Adi    Bengali     Nepali   \n",
       "3                      Assam   Assamese      Hindi       Bodo     Nepali   \n",
       "4                      Bihar      Hindi   Maithili       Urdu    Bengali   \n",
       "5                 Chandigarh      Hindi    Punjabi       Urdu     Nepali   \n",
       "6               Chhattisgarh      Hindi       Odia    Bengali     Telugu   \n",
       "7       Dadra & Nagar Haveli      Hindi   Gujarati    Marathi    Konkani   \n",
       "8                Daman & Diu   Gujarati      Hindi    Marathi    Bengali   \n",
       "9                      Delhi      Hindi    Punjabi       Urdu    Bengali   \n",
       "\n",
       "  Language 5  \n",
       "0  Malayalam  \n",
       "1    Marathi  \n",
       "2      Hindi  \n",
       "3    English  \n",
       "4    Santali  \n",
       "5    Bengali  \n",
       "6    Marathi  \n",
       "7       Odia  \n",
       "8       Odia  \n",
       "9   Maithili  "
      ]
     },
     "execution_count": 5,
     "metadata": {},
     "output_type": "execute_result"
    }
   ],
   "source": [
    "df['Language 1']=first_lang\n",
    "df['Language 5'].fillna(\"English\", inplace = True)\n",
    "df = df.rename(columns={'State / Union Territory': 'State_UT'})\n",
    "df.head(10)"
   ]
  },
  {
   "cell_type": "markdown",
   "metadata": {},
   "source": [
    "<p style=\"font-size:16px\">Now that our data has been cleaned we can go on to visualize it.</p>"
   ]
  },
  {
   "cell_type": "code",
   "execution_count": 9,
   "metadata": {},
   "outputs": [
    {
     "data": {
      "text/plain": [
       "<matplotlib.axes._subplots.AxesSubplot at 0x1b0b564a108>"
      ]
     },
     "execution_count": 9,
     "metadata": {},
     "output_type": "execute_result"
    },
    {
     "data": {
      "image/png": "[encoded data removed]",
      "text/plain": [
       "<Figure size 1080x360 with 1 Axes>"
      ]
     },
     "metadata": {
      "needs_background": "light"
     },
     "output_type": "display_data"
    }
   ],
   "source": [
    "import matplotlib.pyplot as plt\n",
    "%matplotlib inline\n",
    "\n",
    "state_list=list()\n",
    "for i in df['State_UT']:\n",
    "    state_list.append(i)\n",
    "state_list*=5\n",
    "len(state_list)\n",
    "\n",
    "\n",
    "mod_df=pd.DataFrame(columns=['State_UT', 'Languages'])\n",
    "mod_df['State_UT']=state_list\n",
    "frames = [df['Language 1'], df['Language 2'],df['Language 3'],df['Language 4'],df['Language 5']]\n",
    "result=pd.concat(frames)\n",
    "lang_list=list(result)\n",
    "lang_list\n",
    "mod_df['Languages']=lang_list\n",
    "\n",
    "\n",
    "plt.figure(figsize=(15,5))\n",
    "mod_df['Languages'].value_counts().plot(kind='bar')"
   ]
  },
  {
   "cell_type": "markdown",
   "metadata": {},
   "source": [
    "<p style=\"font-size:16px\">We can clearly see that Hindi is the most widely spoken language followed by Urdu and Bengali. We will now use this data for clustering and further analysis for our project. </p>"
   ]
  }
 ],
 "metadata": {
  "kernelspec": {
   "display_name": "Python 3",
   "language": "python",
   "name": "python3"
  },
  "language_info": {
   "codemirror_mode": {
    "name": "ipython",
    "version": 3
   },
   "file_extension": ".py",
   "mimetype": "text/x-python",
   "name": "python",
   "nbconvert_exporter": "python",
   "pygments_lexer": "ipython3",
   "version": "3.7.7"
  }
 },
 "nbformat": 4,
 "nbformat_minor": 4
}
